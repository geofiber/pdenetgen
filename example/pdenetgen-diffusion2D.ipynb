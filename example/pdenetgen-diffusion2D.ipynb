{
 "cells": [
  {
   "cell_type": "markdown",
   "metadata": {},
   "source": [
    "<center>                                       <H1>Validation of the NN code generator for the 2D diffusion equation </H1> \n",
    "    <H3>O. Pannekoucke</H3> \n",
    "</center>\n",
    "$   %\\newcommand{\\pde}{\\partial}\n",
    "    %\\newcommand{\\pdt}{\\partial_t}\n",
    "    %\\newcommand{\\pdx}{\\partial_x}\n",
    "    \\newcommand{\\bu}{\\bar u}\n",
    "    \\newcommand{\\eps}{\\varepsilon}$"
   ]
  },
  {
   "cell_type": "markdown",
   "metadata": {
    "slideshow": {
     "slide_type": "subslide"
    }
   },
   "source": [
    "<center> <b>Objectifs</b> </center>\n",
    "\n",
    " * Definition of the 2D diffusion equation by using `sympy`\n",
    " * Computation of the numerical solution of the 2D diffusion using a NN"
   ]
  },
  {
   "cell_type": "markdown",
   "metadata": {},
   "source": [
    "--- \n",
    "<h1><center>Contents</center></h1>\n",
    "\n",
    "\n",
    "  1. [Introduction](#intro)\n",
    "  1. [Dynamics](#model)\n",
    "  1. [Numerical code for the resolution](#code)\n",
    "  1. [Numerical application](#num)\n",
    "  1. [Conclusion](#conclusion)\n",
    "---"
   ]
  },
  {
   "cell_type": "markdown",
   "metadata": {},
   "source": [
    "## Introduction <a id='intro'/>"
   ]
  },
  {
   "cell_type": "markdown",
   "metadata": {},
   "source": [
    "The aim is to compute the solution of the diffusion equation given by\n",
    "$$\\partial_t u = \\partial_{x^i}\\left(\\kappa_{ij}\\partial_{x^j} u \\right),$$\n",
    "where $\\kappa$  is a field of diffusion tensors."
   ]
  },
  {
   "cell_type": "markdown",
   "metadata": {},
   "source": [
    "## Dynamics <a id='model'>"
   ]
  },
  {
   "cell_type": "code",
   "execution_count": null,
   "metadata": {
    "ExecuteTime": {
     "end_time": "2018-10-03T09:05:22.911943Z",
     "start_time": "2018-10-03T09:05:22.699109Z"
    }
   },
   "outputs": [],
   "source": [
    "from sympy import init_printing\n",
    "init_printing() "
   ]
  },
  {
   "cell_type": "markdown",
   "metadata": {},
   "source": [
    "**Set the diffusion equation**"
   ]
  },
  {
   "cell_type": "code",
   "execution_count": null,
   "metadata": {
    "ExecuteTime": {
     "end_time": "2018-10-03T09:05:22.918731Z",
     "start_time": "2018-10-03T09:05:22.913163Z"
    }
   },
   "outputs": [],
   "source": [
    "from sympy import Function, symbols, Derivative\n",
    "from pdenetgen import Eq, NNModelBuilder\n",
    "\n",
    "# Defines the diffusion equation using sympy\n",
    "t, x, y = symbols('t x y')\n",
    "u = Function('u')(t,x,y)\n",
    "kappa11 = Function('\\\\kappa_{11}')(x,y)\n",
    "kappa12 = Function('\\\\kappa_{12}')(x,y)\n",
    "kappa22 = Function('\\\\kappa_{22}')(x,y)\n",
    "\n",
    "diffusion_2D = Eq(Derivative(u,t),\n",
    "  Derivative(kappa11*Derivative(u,x)+\n",
    "             kappa12*Derivative(u,y),x)+\n",
    "  Derivative(kappa12*Derivative(u,x)+\n",
    "             kappa22*Derivative(u,y),y)).doit()\n",
    "\n",
    "# Defines the neural network code generator\n",
    "diffusion_nn_builder = NNModelBuilder(diffusion_2D,\n",
    "        class_name=\"NNDiffusion2DHeterogeneous\")\n",
    "\n",
    "# Renders the neural network code\n",
    "exec(diffusion_nn_builder.code)\n",
    "\n",
    "# Create a 2D Diffusion model\n",
    "diffusion_model = NNDiffusion2DHeterogeneous()"
   ]
  },
  {
   "cell_type": "markdown",
   "metadata": {},
   "source": [
    "**Sample of NN code generated**\n",
    "```python\n",
    "# Example of computation of a derivative\n",
    "kernel_Du_x_o1 = np.asarray([[0.0,-1/(2*self.dx[self.coordinates.index('x')]),0.0],\n",
    " [0.0,0.0,0.0],\n",
    " [0.0,1/(2*self.dx[self.coordinates.index('x')]),0.0]]).reshape((3, 3)+(1,1))\n",
    "Du_x_o1 = DerivativeFactory((3, 3),kernel=kernel_Du_x_o1,name='Du_x_o1')(u)\n",
    "\n",
    "# Computation of trend_u\n",
    "mul_0 = keras.layers.multiply([Dkappa_11_x_o1,Du_x_o1],name='MulLayer_0')\n",
    "mul_1 = keras.layers.multiply([Dkappa_12_x_o1,Du_y_o1],name='MulLayer_1')\n",
    "mul_2 = keras.layers.multiply([Dkappa_12_y_o1,Du_x_o1],name='MulLayer_2')\n",
    "mul_3 = keras.layers.multiply([Dkappa_22_y_o1,Du_y_o1],name='MulLayer_3')\n",
    "mul_4 = keras.layers.multiply([Du_x_o2,kappa_11],name='MulLayer_4')\n",
    "mul_5 = keras.layers.multiply([Du_y_o2,kappa_22],name='MulLayer_5')\n",
    "mul_6 = keras.layers.multiply([Du_x_o1_y_o1,kappa_12],name='MulLayer_6')\n",
    "sc_mul_0 = keras.layers.Lambda(lambda x: 2.0*x,name='ScalarMulLayer_0')(mul_6)\n",
    "trend_u = keras.layers.add([mul_0,mul_1,mul_2,mul_3,mul_4,mul_5,sc_mul_0],name='AddLayer_0')\n",
    "```"
   ]
  },
  {
   "cell_type": "code",
   "execution_count": null,
   "metadata": {},
   "outputs": [],
   "source": [
    "print(diffusion_nn_builder.code)"
   ]
  },
  {
   "cell_type": "markdown",
   "metadata": {},
   "source": [
    "## Numerical application <a id='num'/>"
   ]
  },
  {
   "cell_type": "markdown",
   "metadata": {},
   "source": [
    "### Definition of the domain of computation"
   ]
  },
  {
   "cell_type": "markdown",
   "metadata": {},
   "source": [
    "The domain is the bi-periodic sqare $[0,1)\\times [0,1)$"
   ]
  },
  {
   "cell_type": "markdown",
   "metadata": {},
   "source": [
    "### Set the numerical NN model"
   ]
  },
  {
   "cell_type": "code",
   "execution_count": null,
   "metadata": {},
   "outputs": [],
   "source": [
    "domain = diffusion_model"
   ]
  },
  {
   "cell_type": "markdown",
   "metadata": {},
   "source": [
    "**Set initial fields**"
   ]
  },
  {
   "cell_type": "code",
   "execution_count": null,
   "metadata": {},
   "outputs": [],
   "source": [
    "import numpy as np"
   ]
  },
  {
   "cell_type": "code",
   "execution_count": null,
   "metadata": {},
   "outputs": [],
   "source": [
    "dx, dy = diffusion_model.dx\n",
    "\n",
    "# Set a dirac at the center of the domain.\n",
    "U = np.zeros(diffusion_model.shape)\n",
    "U[diffusion_model.shape[0]//2, diffusion_model.shape[0]//2] = 1./(dx*dy)\n",
    "\n"
   ]
  },
  {
   "cell_type": "code",
   "execution_count": null,
   "metadata": {},
   "outputs": [],
   "source": [
    "diffusion_model.shape"
   ]
  },
  {
   "cell_type": "code",
   "execution_count": null,
   "metadata": {},
   "outputs": [],
   "source": [
    "X = np.asarray(diffusion_model.X)\n",
    "k = np.asarray([1,2])\n",
    "X = np.moveaxis(X,0,2)\n",
    "print(X.shape)\n",
    "\n",
    "np.linalg.norm(X@k -k[0]*diffusion_model.X[0]-k[1]*diffusion_model.X[1])"
   ]
  },
  {
   "cell_type": "markdown",
   "metadata": {},
   "source": [
    "**Set constants and time step**"
   ]
  },
  {
   "cell_type": "code",
   "execution_count": null,
   "metadata": {},
   "outputs": [],
   "source": [
    "import matplotlib.pyplot as plt"
   ]
  },
  {
   "cell_type": "code",
   "execution_count": null,
   "metadata": {},
   "outputs": [],
   "source": [
    "time_scale = 1.\n",
    "#\n",
    "# Construction du tenseur de diffusion\n",
    "#\n",
    "\n",
    "# a) Définition des composantes principales\n",
    "lx, ly = 10*dx, 5*dy\n",
    "kappa_11 = lx**2/time_scale\n",
    "kappa_22 = ly**2/time_scale\n",
    "\n",
    "# b) Construction d'un matrice de rotation\n",
    "R = lambda theta : np.array([[np.cos(theta), -np.sin(theta)],[np.sin(theta), np.cos(theta)]])\n",
    "\n",
    "# c) Spectre du tenseur de référence\n",
    "D = np.diag([kappa_11,kappa_22])\n",
    "\n",
    "\n",
    "# d) Set diffusion tensors field\n",
    "diffusion_model.kappa_11 = np.zeros(diffusion_model.shape)\n",
    "diffusion_model.kappa_12 = np.zeros(diffusion_model.shape)\n",
    "diffusion_model.kappa_22 = np.zeros(diffusion_model.shape)\n",
    "\n",
    "X = np.moveaxis(np.asarray(diffusion_model.X),0,2)\n",
    "k = 2*np.pi*np.array([2,3])\n",
    "\n",
    "theta = np.pi/3*np.cos(X@k)\n",
    "#plt.contourf(*num_model.x, theta)\n",
    "\n",
    "for i in range(diffusion_model.shape[0]):\n",
    "    for j in range(diffusion_model.shape[1]):\n",
    "        lR = R(theta[i,j])\n",
    "        nu = lR@np.diag([kappa_11,kappa_22])@lR.T\n",
    "        diffusion_model.kappa_11[i,j] = nu[0,0]\n",
    "        diffusion_model.kappa_12[i,j] = nu[0,1]\n",
    "        diffusion_model.kappa_22[i,j] = nu[1,1]\n",
    "        \n",
    "        \n",
    "diffusion_model.kappa_11 = diffusion_model.kappa_11.reshape((1,100,100,1))\n",
    "diffusion_model.kappa_12 = diffusion_model.kappa_12.reshape((1,100,100,1))\n",
    "diffusion_model.kappa_22 = diffusion_model.kappa_22.reshape((1,100,100,1))\n",
    "#\n",
    "# Calcul du pas de temps adapté au problème\n",
    "#\n",
    "dt = np.min([dx**2/kappa_11, dy**2/kappa_22])\n",
    "\n",
    "CFL = 1/6\n",
    "diffusion_model._dt = CFL * dt\n",
    "print('time step:', diffusion_model._dt)"
   ]
  },
  {
   "cell_type": "markdown",
   "metadata": {},
   "source": [
    "**Illustrates trend at initial condition**"
   ]
  },
  {
   "cell_type": "code",
   "execution_count": null,
   "metadata": {},
   "outputs": [],
   "source": [
    "def plot(field):\n",
    "    plt.contourf(*diffusion_model.x, field.T)"
   ]
  },
  {
   "cell_type": "code",
   "execution_count": null,
   "metadata": {},
   "outputs": [],
   "source": [
    "state0 = U.copy().reshape((1,1)+diffusion_model.shape+(1,))\n",
    "print(state0.shape)"
   ]
  },
  {
   "cell_type": "code",
   "execution_count": null,
   "metadata": {},
   "outputs": [],
   "source": [
    "import keras"
   ]
  },
  {
   "cell_type": "code",
   "execution_count": null,
   "metadata": {},
   "outputs": [],
   "source": [
    "dU, = diffusion_model.trend(0,state0)\n",
    "\n",
    "plot(dU[0].reshape((100,100)))\n",
    "plt.title('Trend for the diffusion')"
   ]
  },
  {
   "cell_type": "markdown",
   "metadata": {},
   "source": [
    "**Short forecast**"
   ]
  },
  {
   "cell_type": "code",
   "execution_count": null,
   "metadata": {},
   "outputs": [],
   "source": [
    "times = diffusion_model.window(time_scale)\n",
    "#saved_times = times[::100]\n",
    "saved_times = times"
   ]
  },
  {
   "cell_type": "code",
   "execution_count": null,
   "metadata": {},
   "outputs": [],
   "source": [
    "diffusion_model.set_time_scheme('euler')\n",
    "traj = diffusion_model.forecast(times, state0, saved_times)"
   ]
  },
  {
   "cell_type": "code",
   "execution_count": null,
   "metadata": {},
   "outputs": [],
   "source": [
    "plt.figure(figsize=(12,5))\n",
    "\n",
    "start, end = [traj[time] for time in [saved_times[0], saved_times[-1]]]\n",
    "\n",
    "title = ['start', 'end']\n",
    "for k, state in enumerate([start, end]):\n",
    "    plt.subplot(121+k)\n",
    "    plot(state[0].reshape((100,100)))\n",
    "    plt.title(title[k])\n",
    "    \n",
    "plt.savefig('./figures/NN-diffusion-2D-prediction.pdf')\n",
    "np.save('nn-diffusion.npy', end)"
   ]
  },
  {
   "cell_type": "markdown",
   "metadata": {},
   "source": [
    "**Comparison with the finite difference solution**"
   ]
  },
  {
   "cell_type": "code",
   "execution_count": null,
   "metadata": {},
   "outputs": [],
   "source": [
    "fd_end_solution = np.load('fd-diffusion.npy')"
   ]
  },
  {
   "cell_type": "code",
   "execution_count": null,
   "metadata": {},
   "outputs": [],
   "source": [
    "np.linalg.norm(fd_end_solution[0] - end[0,0,:,:,0])"
   ]
  },
  {
   "cell_type": "markdown",
   "metadata": {},
   "source": [
    "## Conclusion <a id='conclusion'/>"
   ]
  },
  {
   "cell_type": "markdown",
   "metadata": {},
   "source": [
    "In this notebook, the solution of the diffusion equation using a NN code has been presented. \n",
    "The results are those of the finite-difference solution (not shown here). This validate the NN generator and illustrates how the physical equations can be used for the design of a NN architecture."
   ]
  }
 ],
 "metadata": {
  "kernelspec": {
   "display_name": "Python 3",
   "language": "python",
   "name": "python3"
  },
  "language_info": {
   "codemirror_mode": {
    "name": "ipython",
    "version": 3
   },
   "file_extension": ".py",
   "mimetype": "text/x-python",
   "name": "python",
   "nbconvert_exporter": "python",
   "pygments_lexer": "ipython3",
   "version": "3.7.7"
  },
  "toc": {
   "nav_menu": {},
   "number_sections": true,
   "sideBar": true,
   "skip_h1_title": true,
   "toc_cell": false,
   "toc_position": {},
   "toc_section_display": "block",
   "toc_window_display": false
  }
 },
 "nbformat": 4,
 "nbformat_minor": 4
}
